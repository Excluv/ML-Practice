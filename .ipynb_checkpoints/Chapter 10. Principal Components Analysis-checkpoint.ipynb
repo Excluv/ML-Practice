{
 "cells": [
  {
   "cell_type": "code",
   "execution_count": 36,
   "id": "97ce9d44-09a7-4e4c-acc4-bb176092e7cc",
   "metadata": {},
   "outputs": [],
   "source": [
    "import numpy as np\n",
    "\n",
    "class PCA:\n",
    "    \"\"\"\n",
    "    Principal Components Analysis.\n",
    "    \n",
    "    Parameters\n",
    "    -------\n",
    "        data: np.ndarray\n",
    "            A (D x N) matrix containing data.\n",
    "        \n",
    "    Methods\n",
    "    -------\n",
    "    _standardize():\n",
    "        Transforms data matrix into standard (z-score) form.\n",
    "    \n",
    "    _reconstruct():\n",
    "        Undoes the standardization.\n",
    "    \n",
    "    _sort_eigenvectors():\n",
    "        Rearranges the order of the eigenvectors associated with the eigenvalues, whose order is sorted from largest -> smallest.\n",
    "    \n",
    "    _calc_eigenvectors():\n",
    "        Computes the eigenvectors.\n",
    "    \n",
    "    _calc_proj_matrix():\n",
    "        Computes the projection matrix, used to reconstruct data.\n",
    "    \n",
    "    _calc_variance():\n",
    "        Computes the variance, which is the sum of the eigenvalues.\n",
    "    \n",
    "    covariance_matrix():\n",
    "        Computes the data covariance matrix.\n",
    "        \n",
    "    principal_components():\n",
    "        Calculates the orthogonal matrix whose columns are the eigenvectors.\n",
    "    \n",
    "    compressed_data():\n",
    "        Calculates the compressed data based on given number of principal components.\n",
    "    \n",
    "    mse():\n",
    "        Computes the mean squared error.\n",
    "        \n",
    "    explained_variance_ratio():\n",
    "        Computes the ratio of captured variance using n principal components over the total variance.\n",
    "    \"\"\"\n",
    "    def __init__(self, data: np.ndarray, n_components: int):\n",
    "        self._validate_params(data, n_components)\n",
    "        self.data = data\n",
    "        self.n_components = n_components\n",
    "    \n",
    "    def _validate_params(self, data, n_components):\n",
    "        if type(data) is not np.ndarray:\n",
    "            raise Exception(f\"Data must be a NumPy array. type = {type(data)}\")\n",
    "        if type(n_components) is not int:\n",
    "            raise Exception(f\"No. components must be an integer. n_components = {n_components}\")\n",
    "        if n_components <= 0:\n",
    "            raise Exception(f\"No. components must be a positive integer. n_components = {n_components}\")\n",
    "        \n",
    "    def _standardize(self, matrix: np.ndarray) -> np.ndarray:\n",
    "        mean = np.mean(matrix, axis=1)\n",
    "        std = np.std(matrix, axis=1)\n",
    "        \n",
    "        # Fills columns of 0 standard deviations with 1's\n",
    "        std[np.where(std==0)] = 1\n",
    "        return (matrix - mean) / std\n",
    "    \n",
    "    def _reconstruct(self, original_mat: np.ndarray, standardized_mat: np.ndarray) -> np.ndarray:\n",
    "        mean = np.mean(original_mat, axis=1)\n",
    "        std = np.std(original_mat, axis=1)\n",
    "        reconstructed_mat = (standardized_mat*std) + mean\n",
    "        return reconstructed_mat\n",
    "    \n",
    "    def _sort_eigenvectors(self, eigenvalues: np.ndarray, eigenvectors: np.ndarray) -> np.ndarray:\n",
    "        order = np.argsort(eigenvalues)[::-1]\n",
    "        return eigenvalues[order], eigenvectors[:, order]\n",
    "    \n",
    "    def _calc_eigenvectors(self, matrix: np.ndarray) -> np.ndarray:        \n",
    "        eigenvalues, eigenvectors = np.linalg.eig(matrix)\n",
    "        eigenvalues, eigenvectors = self._sort_eigenvectors(eigenvalues, eigenvectors)\n",
    "        return np.real(eigenvalues), np.real(eigenvectors)\n",
    "    \n",
    "    def _calc_proj_matrix(self, matrix: np.ndarray) -> np.ndarray:\n",
    "        inv_matrix = np.linalg.inv(matrix.T @ matrix)\n",
    "        return matrix @ inv_matrix @ matrix.T\n",
    "    \n",
    "    def _calc_variance(self, eigenvalues: np.ndarray, n_components: int) -> np.ndarray:\n",
    "        return np.sum(eigenvalues[:n_components])\n",
    "    \n",
    "    def covariance_matrix(self) -> np.ndarray:\n",
    "        matrix = self._standardize(self.data)\n",
    "        return matrix @ matrix.T\n",
    "    \n",
    "    def principal_components(self) -> np.ndarray:\n",
    "        n_components = self.n_components\n",
    "        matrix = self.covariance_matrix()\n",
    "        eigenvalues, eigenvectors = self._calc_eigenvectors(matrix)\n",
    "        eigenvectors = eigenvectors[:, :n_components]\n",
    "        return eigenvectors\n",
    "    \n",
    "    def compressed_data(self) -> np.ndarray:\n",
    "        n_components = self.n_components\n",
    "        pc_matrix = self.principal_components()\n",
    "        proj_matrix = self._calc_proj_matrix(pc_matrix)\n",
    "        compressed_data = self._standardize(self.data)\n",
    "        compressed_data = proj_matrix @ compressed_data\n",
    "        compressed_data = self._reconstruct(self.data, compressed_data)\n",
    "        return compressed_data\n",
    "    \n",
    "    def mse(self) -> float:\n",
    "        n_components = self.n_components\n",
    "        compressed_data = self.compressed_data(n_components)\n",
    "        data = self.data\n",
    "        error = np.linalg.norm(data - compressed_data, axis=0)\n",
    "        mse = error.sum() / error.shape[1]\n",
    "        return mse\n",
    "    \n",
    "    def explained_variance_ratio(self) -> float:\n",
    "        matrix = self.covariance_matrix()\n",
    "        eigenvalues, eigenvectors = self._calc_eigenvectors(matrix)\n",
    "        captured_variance = self._calc_variance(eigenvalues, self.n_components)\n",
    "        total_variance = self._calc_variance(eigenvalues, matrix.shape[0])\n",
    "        return captured_variance / total_variance"
   ]
  },
  {
   "cell_type": "code",
   "execution_count": 2,
   "id": "982d9dbf-e551-44b4-9a00-a7b1fe57c8d3",
   "metadata": {},
   "outputs": [],
   "source": [
    "def sort_by_target(mnist):\n",
    "    reordered_train = np.array(sorted([(target, i) for i, target in enumerate(mnist.target[:60000])]))[:, 1]\n",
    "    reordered_test = np.array(sorted([(target, i) for i, target in enumerate(mnist.target[60000:])]))[:, 1]\n",
    "    mnist.data[:60000] = mnist.data[reordered_train]\n",
    "    mnist.target[:60000] = mnist.target[reordered_train]\n",
    "    mnist.data[60000:] = mnist.data[reordered_test]\n",
    "    mnist.target[60000:] = mnist.target[reordered_test]"
   ]
  },
  {
   "cell_type": "code",
   "execution_count": 3,
   "id": "ccab3f21-4c57-42a9-957d-6246b94eb656",
   "metadata": {},
   "outputs": [],
   "source": [
    "try:\n",
    "    from sklearn.datasets import fetch_openml\n",
    "    \n",
    "    mnist = fetch_openml(\"mnist_784\", version=1, cache=True, as_frame=False)\n",
    "    mnist.target = mnist.target.astype(np.int8)\n",
    "    sort_by_target(mnist)\n",
    "except ImportError:\n",
    "    from sklearn.datasets import fetch_mldata\n",
    "    \n",
    "    mnist = fetch_mldata(\"MNIST original\")"
   ]
  },
  {
   "cell_type": "code",
   "execution_count": 4,
   "id": "84c9b702-541e-480d-9448-091e14921989",
   "metadata": {},
   "outputs": [],
   "source": [
    "import matplotlib as mpl\n",
    "import matplotlib.pyplot as plt"
   ]
  },
  {
   "cell_type": "code",
   "execution_count": 9,
   "id": "f41ef745-1cd6-4ae8-918e-7f04e20c56f8",
   "metadata": {},
   "outputs": [
    {
     "data": {
      "text/plain": [
       "<matplotlib.image.AxesImage at 0x2b30c021630>"
      ]
     },
     "execution_count": 9,
     "metadata": {},
     "output_type": "execute_result"
    },
    {
     "data": {
      "image/png": "[encoded data removed]",
      "text/plain": [
       "<Figure size 432x288 with 1 Axes>"
      ]
     },
     "metadata": {
      "needs_background": "light"
     },
     "output_type": "display_data"
    }
   ],
   "source": [
    "data = mnist[\"data\"]\n",
    "target = mnist[\"target\"]\n",
    "sample_img = data[0, :].reshape(28, 28)\n",
    "plt.imshow(sample_img, cmap=mpl.cm.binary, interpolation=\"nearest\")"
   ]
  },
  {
   "cell_type": "code",
   "execution_count": 63,
   "id": "da431ddb-b2b6-4018-b040-68ac1810936e",
   "metadata": {},
   "outputs": [],
   "source": [
    "explained_variance = list()\n",
    "for n_components in range(1, 29):\n",
    "    pca = PCA(sample_img, n_components)\n",
    "    explained_variance.append([n_components, pca.explained_variance_ratio()])\n",
    "    \n",
    "explained_variance = np.array(explained_variance)\n",
    "explained_variance[:, 1] *= 100\n",
    "optimal_n_components = np.argmax(explained_variance[:, 1] > 95) + 1"
   ]
  },
  {
   "cell_type": "code",
   "execution_count": 64,
   "id": "52405f1d-130c-40d1-a0f4-b515219ce5b1",
   "metadata": {},
   "outputs": [
    {
     "data": {
      "text/plain": [
       "[<matplotlib.lines.Line2D at 0x2b30e996050>]"
      ]
     },
     "execution_count": 64,
     "metadata": {},
     "output_type": "execute_result"
    },
    {
     "data": {
      "image/png": "[encoded data removed]",
      "text/plain": [
       "<Figure size 1152x648 with 1 Axes>"
      ]
     },
     "metadata": {
      "needs_background": "light"
     },
     "output_type": "display_data"
    }
   ],
   "source": [
    "fig = plt.figure(figsize=(16, 9))\n",
    "ax = plt.axes()\n",
    "ax.set_title(\"Cumulative Explained Variance Percentage given by n components\")\n",
    "ax.set_ylabel(\"Cumulative Percentage\")\n",
    "ax.set_xlabel(\"N components\")\n",
    "ax.axvline(x=optimal_n_components, color=\"k\", linestyle=\"--\")\n",
    "ax.axhline(y=95, color=\"r\", linestyle=\"--\")\n",
    "ax.plot(explained_variance[:, 0], explained_variance[:, 1], color=\"lightblue\")"
   ]
  },
  {
   "cell_type": "code",
   "execution_count": 69,
   "id": "4e1c8491-2afc-4e29-80d8-4eb468280aae",
   "metadata": {},
   "outputs": [
    {
     "data": {
      "text/plain": [
       "<matplotlib.image.AxesImage at 0x2b30eb4b580>"
      ]
     },
     "execution_count": 69,
     "metadata": {},
     "output_type": "execute_result"
    },
    {
     "data": {
      "image/png": "[encoded data removed]",
      "text/plain": [
       "<Figure size 432x288 with 1 Axes>"
      ]
     },
     "metadata": {
      "needs_background": "light"
     },
     "output_type": "display_data"
    }
   ],
   "source": [
    "pca = PCA(sample_img, 6)\n",
    "plt.imshow(pca.compressed_data(), cmap=mpl.cm.binary, interpolation=\"nearest\")"
   ]
  },
  {
   "cell_type": "code",
   "execution_count": null,
   "id": "0aac6651-d3f8-4507-97a3-d90b20590f41",
   "metadata": {},
   "outputs": [],
   "source": []
  }
 ],
 "metadata": {
  "kernelspec": {
   "display_name": "Python 3 (ipykernel)",
   "language": "python",
   "name": "python3"
  },
  "language_info": {
   "codemirror_mode": {
    "name": "ipython",
    "version": 3
   },
   "file_extension": ".py",
   "mimetype": "text/x-python",
   "name": "python",
   "nbconvert_exporter": "python",
   "pygments_lexer": "ipython3",
   "version": "3.10.4"
  }
 },
 "nbformat": 4,
 "nbformat_minor": 5
}
