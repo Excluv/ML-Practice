{
 "cells": [
  {
   "cell_type": "code",
   "execution_count": 3,
   "id": "847b12fb-43fc-4057-94eb-c89bb3a96f29",
   "metadata": {},
   "outputs": [],
   "source": [
    "import numpy as np"
   ]
  },
  {
   "cell_type": "code",
   "execution_count": 68,
   "id": "6663e6ba-0fb4-4cbb-98ca-602abd7ab660",
   "metadata": {},
   "outputs": [
    {
     "name": "stdout",
     "output_type": "stream",
     "text": [
      "0.0\n"
     ]
    }
   ],
   "source": [
    "x_0 = -0.9\n",
    "\n",
    "for i in range(10):\n",
    "    f = x_0/(1 - x_0)\n",
    "    f_prime = 1/(x_0 - 1)**2\n",
    "    x_i = x_0 - f/f_prime\n",
    "    x_0 = x_i\n",
    "    if i > 8:\n",
    "        print(x_i)"
   ]
  },
  {
   "cell_type": "code",
   "execution_count": 31,
   "id": "4fea528d-4f1d-4a64-83ef-ac06f0558ebe",
   "metadata": {},
   "outputs": [
    {
     "name": "stdout",
     "output_type": "stream",
     "text": [
      "0.8400000000000001\n",
      "0.5375999999999999\n",
      "0.99434496\n",
      "0.022492242090393244\n",
      "0.08794536454456155\n",
      "0.32084390959874287\n",
      "0.8716123810885463\n",
      "0.44761695288680414\n",
      "0.9890240655005468\n",
      "0.04342185344526772\n"
     ]
    }
   ],
   "source": [
    "x_0 = 0.70\n",
    "\n",
    "for i in range(10):\n",
    "    x_i = 4*x_0 - 4*(x_0**2)\n",
    "    x_0 = x_i\n",
    "    print(x_i)"
   ]
  },
  {
   "cell_type": "code",
   "execution_count": 15,
   "id": "5d6a1205-0bdd-432a-8a00-ee52d4537f9a",
   "metadata": {},
   "outputs": [
    {
     "name": "stdout",
     "output_type": "stream",
     "text": [
      "3.160399999999995\n"
     ]
    }
   ],
   "source": [
    "rng = np.random.default_rng(0)\n",
    "\n",
    "s = 0\n",
    "for i in range(1, 10001, 1):\n",
    "    x = rng.uniform(0, 1, 1)\n",
    "    y = rng.uniform(0, 1, 1)\n",
    "    x_i = 0\n",
    "    if (x - 1/2)**2 + (y - 1/2)**2 <= 1/4:\n",
    "        x_i = 1\n",
    "        \n",
    "    s = (i - 1)*s/i + x_i/i\n",
    "\n",
    "pi = 4 * s\n",
    "print(pi)"
   ]
  },
  {
   "cell_type": "code",
   "execution_count": 17,
   "id": "7ac0fb88-efa7-477a-8d48-66a43d40bcd0",
   "metadata": {},
   "outputs": [
    {
     "name": "stdout",
     "output_type": "stream",
     "text": [
      "3.1484000000000183\n"
     ]
    }
   ],
   "source": [
    "s = 0\n",
    "for i in range(1, 10001, 1):\n",
    "    x = rng.uniform(0, 1, 1)\n",
    "    y = rng.uniform(0, 1, 1)\n",
    "    x_i = 0\n",
    "    if (x)**2 + (y)**2 <= 1:\n",
    "        x_i = 1\n",
    "        \n",
    "    s = (i - 1)*s/i + x_i/i\n",
    "\n",
    "pi = 4 * s\n",
    "print(pi)"
   ]
  },
  {
   "cell_type": "code",
   "execution_count": null,
   "id": "e965a430-f512-45b2-a1a7-3d75595a23e6",
   "metadata": {},
   "outputs": [],
   "source": [
    "s = 0\n",
    "for i in range(1, 10001, 1):\n",
    "    x = rng.uniform(0, 1, 1)\n",
    "    y = rng.uniform(0, 1, 1)\n",
    "    x_i = 0\n",
    "    if (np.sin(pi*x)) and ():\n",
    "        x_i = 1\n",
    "        \n",
    "    s = (i - 1)*s/i + x_i/i\n",
    "\n",
    "print(s)"
   ]
  },
  {
   "cell_type": "code",
   "execution_count": 16,
   "id": "906fd044-88f7-4bbc-9a07-ea566690c97f",
   "metadata": {},
   "outputs": [
    {
     "data": {
      "text/plain": [
       "\u001b[1;31mDocstring:\u001b[0m\n",
       "normal(loc=0.0, scale=1.0, size=None)\n",
       "\n",
       "Draw random samples from a normal (Gaussian) distribution.\n",
       "\n",
       "The probability density function of the normal distribution, first\n",
       "derived by De Moivre and 200 years later by both Gauss and Laplace\n",
       "independently [2]_, is often called the bell curve because of\n",
       "its characteristic shape (see the example below).\n",
       "\n",
       "The normal distributions occurs often in nature.  For example, it\n",
       "describes the commonly occurring distribution of samples influenced\n",
       "by a large number of tiny, random disturbances, each with its own\n",
       "unique distribution [2]_.\n",
       "\n",
       "Parameters\n",
       "----------\n",
       "loc : float or array_like of floats\n",
       "    Mean (\"centre\") of the distribution.\n",
       "scale : float or array_like of floats\n",
       "    Standard deviation (spread or \"width\") of the distribution. Must be\n",
       "    non-negative.\n",
       "size : int or tuple of ints, optional\n",
       "    Output shape.  If the given shape is, e.g., ``(m, n, k)``, then\n",
       "    ``m * n * k`` samples are drawn.  If size is ``None`` (default),\n",
       "    a single value is returned if ``loc`` and ``scale`` are both scalars.\n",
       "    Otherwise, ``np.broadcast(loc, scale).size`` samples are drawn.\n",
       "\n",
       "Returns\n",
       "-------\n",
       "out : ndarray or scalar\n",
       "    Drawn samples from the parameterized normal distribution.\n",
       "\n",
       "See Also\n",
       "--------\n",
       "scipy.stats.norm : probability density function, distribution or\n",
       "    cumulative density function, etc.\n",
       "\n",
       "Notes\n",
       "-----\n",
       "The probability density for the Gaussian distribution is\n",
       "\n",
       ".. math:: p(x) = \\frac{1}{\\sqrt{ 2 \\pi \\sigma^2 }}\n",
       "                 e^{ - \\frac{ (x - \\mu)^2 } {2 \\sigma^2} },\n",
       "\n",
       "where :math:`\\mu` is the mean and :math:`\\sigma` the standard\n",
       "deviation. The square of the standard deviation, :math:`\\sigma^2`,\n",
       "is called the variance.\n",
       "\n",
       "The function has its peak at the mean, and its \"spread\" increases with\n",
       "the standard deviation (the function reaches 0.607 times its maximum at\n",
       ":math:`x + \\sigma` and :math:`x - \\sigma` [2]_).  This implies that\n",
       ":meth:`normal` is more likely to return samples lying close to the\n",
       "mean, rather than those far away.\n",
       "\n",
       "References\n",
       "----------\n",
       ".. [1] Wikipedia, \"Normal distribution\",\n",
       "       https://en.wikipedia.org/wiki/Normal_distribution\n",
       ".. [2] P. R. Peebles Jr., \"Central Limit Theorem\" in \"Probability,\n",
       "       Random Variables and Random Signal Principles\", 4th ed., 2001,\n",
       "       pp. 51, 51, 125.\n",
       "\n",
       "Examples\n",
       "--------\n",
       "Draw samples from the distribution:\n",
       "\n",
       ">>> mu, sigma = 0, 0.1 # mean and standard deviation\n",
       ">>> s = np.random.default_rng().normal(mu, sigma, 1000)\n",
       "\n",
       "Verify the mean and the variance:\n",
       "\n",
       ">>> abs(mu - np.mean(s))\n",
       "0.0  # may vary\n",
       "\n",
       ">>> abs(sigma - np.std(s, ddof=1))\n",
       "0.0  # may vary\n",
       "\n",
       "Display the histogram of the samples, along with\n",
       "the probability density function:\n",
       "\n",
       ">>> import matplotlib.pyplot as plt\n",
       ">>> count, bins, ignored = plt.hist(s, 30, density=True)\n",
       ">>> plt.plot(bins, 1/(sigma * np.sqrt(2 * np.pi)) *\n",
       "...                np.exp( - (bins - mu)**2 / (2 * sigma**2) ),\n",
       "...          linewidth=2, color='r')\n",
       ">>> plt.show()\n",
       "\n",
       "Two-by-four array of samples from the normal distribution with\n",
       "mean 3 and standard deviation 2.5:\n",
       "\n",
       ">>> np.random.default_rng().normal(3, 2.5, size=(2, 4))\n",
       "array([[-4.49401501,  4.00950034, -1.81814867,  7.29718677],   # random\n",
       "       [ 0.39924804,  4.68456316,  4.99394529,  4.84057254]])  # random\n",
       "\u001b[1;31mType:\u001b[0m      builtin_function_or_method\n"
      ]
     },
     "metadata": {},
     "output_type": "display_data"
    }
   ],
   "source": [
    "rng = np.random.default_rng(0)\n",
    "rng.normal?"
   ]
  },
  {
   "cell_type": "code",
   "execution_count": null,
   "id": "4d5cbd94-11fc-4f71-9a7f-b4115bdfe8b9",
   "metadata": {},
   "outputs": [],
   "source": []
  }
 ],
 "metadata": {
  "kernelspec": {
   "display_name": "Python 3 (ipykernel)",
   "language": "python",
   "name": "python3"
  },
  "language_info": {
   "codemirror_mode": {
    "name": "ipython",
    "version": 3
   },
   "file_extension": ".py",
   "mimetype": "text/x-python",
   "name": "python",
   "nbconvert_exporter": "python",
   "pygments_lexer": "ipython3",
   "version": "3.10.4"
  }
 },
 "nbformat": 4,
 "nbformat_minor": 5
}
